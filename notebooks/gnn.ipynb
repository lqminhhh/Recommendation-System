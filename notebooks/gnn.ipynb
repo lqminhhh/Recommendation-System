{
 "cells": [
  {
   "cell_type": "markdown",
   "metadata": {},
   "source": [
    "## 1. Libraries Import"
   ]
  },
  {
   "cell_type": "code",
   "execution_count": 33,
   "metadata": {},
   "outputs": [],
   "source": [
    "import pandas as pd\n",
    "import numpy as np\n",
    "import torch\n",
    "import torch.nn.functional as F\n",
    "from torch_geometric.data import Data\n",
    "from torch_geometric.nn import SAGEConv\n",
    "from sklearn.preprocessing import LabelEncoder, OneHotEncoder, StandardScaler\n",
    "from sklearn.model_selection import train_test_split\n",
    "import matplotlib.pyplot as plt\n",
    "from sklearn.metrics import precision_score, recall_score, f1_score, roc_auc_score\n",
    "import warnings\n",
    "\n",
    "warnings.filterwarnings(\"ignore\")"
   ]
  },
  {
   "cell_type": "markdown",
   "metadata": {},
   "source": [
    "## 2. Load MovieLens Dataset"
   ]
  },
  {
   "cell_type": "code",
   "execution_count": 4,
   "metadata": {},
   "outputs": [],
   "source": [
    "# Define file paths\n",
    "ratings_file = '../data/ratings.dat'\n",
    "users_file = '../data/users.dat'\n",
    "movies_file = '../data/movies.dat'\n",
    "\n",
    "# Define column names\n",
    "ratings_cols = ['UserID', 'MovieID', 'Rating', 'Timestamp']\n",
    "users_cols = ['UserID', 'Gender', 'Age', 'Occupation', 'Zip-code']\n",
    "movies_cols = ['MovieID', 'Title', 'Genres']\n",
    "\n",
    "try:\n",
    "    # Load datasets\n",
    "    ratings = pd.read_csv(ratings_file, sep='::', names=ratings_cols, engine='python')\n",
    "    users = pd.read_csv(users_file, sep='::', names=users_cols, engine='python')\n",
    "    movies = pd.read_csv(movies_file, sep='::', names=movies_cols, engine='python', encoding=\"ISO-8859-1\")\n",
    "except FileNotFoundError as e:\n",
    "    print(\"File not found. Please check the file paths.\")\n",
    "    raise e"
   ]
  },
  {
   "cell_type": "markdown",
   "metadata": {},
   "source": [
    "## 3. Data Preprocessing"
   ]
  },
  {
   "cell_type": "markdown",
   "metadata": {},
   "source": [
    "### 3.1. Preprocess User Features"
   ]
  },
  {
   "cell_type": "code",
   "execution_count": 38,
   "metadata": {},
   "outputs": [],
   "source": [
    "# Encode categorical and normalize numerical features\n",
    "users['Gender'] = LabelEncoder().fit_transform(users['Gender'])  # M:1, F:0\n",
    "users['Occupation'] = LabelEncoder().fit_transform(users['Occupation'])\n",
    "scaler = StandardScaler()\n",
    "users['Age'] = scaler.fit_transform(users[['Age']])\n",
    "\n",
    "# Create user feature matrix\n",
    "user_features = torch.tensor(users[['Gender', 'Age', 'Occupation']].values, dtype=torch.float)"
   ]
  },
  {
   "cell_type": "markdown",
   "metadata": {},
   "source": [
    "### 3.2. Preprocess Movie Features"
   ]
  },
  {
   "cell_type": "code",
   "execution_count": 39,
   "metadata": {},
   "outputs": [],
   "source": [
    "# Handle NaN or missing Genres\n",
    "def safe_split(genres):\n",
    "    return genres.split('|') if isinstance(genres, str) else []\n",
    "\n",
    "movies['Genres'] = movies['Genres'].apply(safe_split)\n",
    "all_genres = set(g for genres in movies['Genres'] for g in genres)\n",
    "genre_mapping = {genre: idx for idx, genre in enumerate(sorted(all_genres))}\n",
    "\n",
    "# Convert genres to one-hot vectors\n",
    "genre_matrix = np.zeros((len(movies), len(all_genres)))\n",
    "for idx, genres in enumerate(movies['Genres']):\n",
    "    genre_matrix[idx, [genre_mapping[g] for g in genres]] = 1\n",
    "\n",
    "movie_features = torch.tensor(genre_matrix, dtype=torch.float)"
   ]
  },
  {
   "cell_type": "markdown",
   "metadata": {},
   "source": [
    "## 4. Graph Construction"
   ]
  },
  {
   "cell_type": "markdown",
   "metadata": {},
   "source": [
    "### 4.1. Map User and Movie IDs to Node Indices"
   ]
  },
  {
   "cell_type": "code",
   "execution_count": 40,
   "metadata": {},
   "outputs": [],
   "source": [
    "# Map UserID and MovieID to indices\n",
    "user_id_map = {id_: idx for idx, id_ in enumerate(users['UserID'])}\n",
    "movie_id_map = {id_: idx + len(user_id_map) for idx, id_ in enumerate(movies['MovieID'])}\n",
    "\n",
    "# Map IDs to indices in ratings\n",
    "ratings['UserNode'] = ratings['UserID'].map(user_id_map)\n",
    "ratings['MovieNode'] = ratings['MovieID'].map(movie_id_map)\n",
    "\n",
    "if ratings[['UserNode', 'MovieNode']].isnull().any().any():\n",
    "    print(\"Some UserID or MovieID in ratings are not mapped. Check data consistency.\")\n",
    "    ratings.dropna(subset=['UserNode', 'MovieNode'], inplace=True)"
   ]
  },
  {
   "cell_type": "markdown",
   "metadata": {},
   "source": [
    "### 4.2. Create Edge Indices and Edge Attributes"
   ]
  },
  {
   "cell_type": "code",
   "execution_count": 41,
   "metadata": {},
   "outputs": [],
   "source": [
    "# Pad user features to match movie features dimension\n",
    "if user_features.shape[1] < movie_features.shape[1]:\n",
    "    user_features_padded = F.pad(user_features, (0, movie_features.shape[1] - user_features.shape[1]))\n",
    "elif user_features.shape[1] > movie_features.shape[1]:\n",
    "    movie_features = F.pad(movie_features, (0, user_features.shape[1] - movie_features.shape[1]))\n",
    "else:\n",
    "    user_features_padded = user_features\n",
    "\n",
    "# Concatenate padded user features and movie features\n",
    "node_features = torch.cat([user_features_padded, movie_features], dim=0)\n",
    "\n",
    "# Create edge index\n",
    "edge_index = torch.tensor(ratings[['UserNode', 'MovieNode']].values.T, dtype=torch.long)\n",
    "\n",
    "# Use ratings as edge attributes\n",
    "edge_attr = torch.tensor(ratings['Rating'].values, dtype=torch.float)"
   ]
  },
  {
   "cell_type": "markdown",
   "metadata": {},
   "source": [
    "## 5. Generate Negative Samples"
   ]
  },
  {
   "cell_type": "code",
   "execution_count": 42,
   "metadata": {},
   "outputs": [],
   "source": [
    "def generate_negative_edges(num_users, num_movies, existing_edges, num_samples):\n",
    "    existing_edge_set = set((u, m) for u, m in existing_edges)\n",
    "    negative_edges = []\n",
    "    \n",
    "    while len(negative_edges) < num_samples:\n",
    "        u = np.random.randint(0, num_users)\n",
    "        m = np.random.randint(0, num_movies)\n",
    "        edge = (u, m + num_users)  # Offset movie indices\n",
    "        if edge not in existing_edge_set:\n",
    "            negative_edges.append(edge)\n",
    "            existing_edge_set.add(edge)\n",
    "    \n",
    "    return torch.tensor(negative_edges).T\n",
    "\n",
    "num_negative_samples = edge_index.size(1)\n",
    "negative_edges = generate_negative_edges(len(user_id_map), len(movie_id_map), edge_index.T.tolist(), num_negative_samples)"
   ]
  },
  {
   "cell_type": "code",
   "execution_count": 43,
   "metadata": {},
   "outputs": [],
   "source": [
    "# Combine positive and negative edges\n",
    "combined_edges = torch.cat([edge_index, negative_edges], dim=1)\n",
    "edge_labels = torch.cat([torch.ones(edge_index.size(1)), torch.zeros(negative_edges.size(1))])"
   ]
  },
  {
   "cell_type": "markdown",
   "metadata": {},
   "source": [
    "## 6. Define the GNN Model"
   ]
  },
  {
   "cell_type": "code",
   "execution_count": 44,
   "metadata": {},
   "outputs": [],
   "source": [
    "class GNN(torch.nn.Module):\n",
    "    def __init__(self, input_dim, hidden_dim, output_dim):\n",
    "        super(GNN, self).__init__()\n",
    "        self.conv1 = SAGEConv(input_dim, hidden_dim)\n",
    "        self.conv2 = SAGEConv(hidden_dim, output_dim)\n",
    "\n",
    "    def forward(self, x, edge_index):\n",
    "        x = self.conv1(x, edge_index)\n",
    "        x = F.relu(x)\n",
    "        x = self.conv2(x, edge_index)\n",
    "        return x"
   ]
  },
  {
   "cell_type": "markdown",
   "metadata": {},
   "source": [
    "## 7. Train-Test Split"
   ]
  },
  {
   "cell_type": "code",
   "execution_count": 45,
   "metadata": {},
   "outputs": [],
   "source": [
    "# Train-Test Split\n",
    "train_edges, test_edges, train_labels, test_labels = train_test_split(\n",
    "    combined_edges.T, edge_labels, test_size=0.2, random_state=42\n",
    ")\n",
    "\n",
    "train_edges = torch.tensor(train_edges).T\n",
    "test_edges = torch.tensor(test_edges).T\n",
    "train_labels = torch.tensor(train_labels, dtype=torch.float)\n",
    "test_labels = torch.tensor(test_labels, dtype=torch.float)"
   ]
  },
  {
   "cell_type": "markdown",
   "metadata": {},
   "source": [
    "## 8. Define Training and Evaluation Functions"
   ]
  },
  {
   "cell_type": "code",
   "execution_count": 56,
   "metadata": {},
   "outputs": [],
   "source": [
    "def precision_at_k(predictions, ground_truth, k):\n",
    "    top_k = torch.topk(predictions, k).indices\n",
    "    hits = ground_truth[top_k].sum()\n",
    "    return hits / k"
   ]
  },
  {
   "cell_type": "code",
   "execution_count": 57,
   "metadata": {},
   "outputs": [],
   "source": [
    "def ndcg_at_k(predictions, ground_truth, k):\n",
    "    top_k = torch.topk(predictions, k).indices\n",
    "    dcg = sum(\n",
    "        (ground_truth[top_k[i]] / torch.log2(torch.tensor(i + 2).float()))\n",
    "        for i in range(len(top_k))\n",
    "    )\n",
    "    ideal_dcg = sum(1.0 / torch.log2(torch.tensor(i + 2).float()) for i in range(min(k, ground_truth.sum().int())))\n",
    "    return dcg / ideal_dcg if ideal_dcg > 0 else 0.0"
   ]
  },
  {
   "cell_type": "code",
   "execution_count": 58,
   "metadata": {},
   "outputs": [],
   "source": [
    "def calculate_metrics(preds, labels):\n",
    "    preds = preds.detach().cpu().numpy()\n",
    "    labels = labels.cpu().numpy()\n",
    "    binary_preds = (preds >= 0.5).astype(int)\n",
    "    precision = precision_score(labels, binary_preds)\n",
    "    recall = recall_score(labels, binary_preds)\n",
    "    f1 = f1_score(labels, binary_preds)\n",
    "    auc = roc_auc_score(labels, preds)\n",
    "    return precision, recall, f1, auc"
   ]
  },
  {
   "cell_type": "code",
   "execution_count": 59,
   "metadata": {},
   "outputs": [],
   "source": [
    "def calculate_ranking_metrics(preds, labels, k=10):\n",
    "    preds = preds.detach()\n",
    "    labels = labels.detach()\n",
    "    precision_k = precision_at_k(preds, labels, k)\n",
    "    ndcg_k = ndcg_at_k(preds, labels, k)\n",
    "    return precision_k, ndcg_k"
   ]
  },
  {
   "cell_type": "code",
   "execution_count": 60,
   "metadata": {},
   "outputs": [],
   "source": [
    "def train():\n",
    "    model.train()\n",
    "    optimizer.zero_grad()\n",
    "    embeddings = model(node_features, train_edges)\n",
    "    user_embeds = embeddings[train_edges[0]]\n",
    "    movie_embeds = embeddings[train_edges[1]]\n",
    "    preds = (user_embeds * movie_embeds).sum(dim=1).sigmoid()\n",
    "    loss = criterion(preds, train_labels)\n",
    "    loss.backward()\n",
    "    optimizer.step()\n",
    "    precision, recall, f1, auc = calculate_metrics(preds, train_labels)\n",
    "    precision_k, ndcg_k = calculate_ranking_metrics(preds, train_labels)\n",
    "    return loss.item(), precision, recall, f1, auc, precision_k, ndcg_k"
   ]
  },
  {
   "cell_type": "code",
   "execution_count": 61,
   "metadata": {},
   "outputs": [],
   "source": [
    "def evaluate():\n",
    "    model.eval()\n",
    "    with torch.no_grad():\n",
    "        embeddings = model(node_features, test_edges)\n",
    "        user_embeds = embeddings[test_edges[0]]\n",
    "        movie_embeds = embeddings[test_edges[1]]\n",
    "        preds = (user_embeds * movie_embeds).sum(dim=1).sigmoid()\n",
    "        loss = criterion(preds, test_labels)\n",
    "        precision, recall, f1, auc = calculate_metrics(preds, test_labels)\n",
    "        precision_k, ndcg_k = calculate_ranking_metrics(preds, test_labels)\n",
    "    return loss.item(), precision, recall, f1, auc, precision_k, ndcg_k"
   ]
  },
  {
   "cell_type": "markdown",
   "metadata": {},
   "source": [
    "## 9. Model Training"
   ]
  },
  {
   "cell_type": "code",
   "execution_count": 62,
   "metadata": {},
   "outputs": [
    {
     "name": "stdout",
     "output_type": "stream",
     "text": [
      "Epoch 01 | Train Loss: 29.0988, Test Loss: 1.2911\n",
      "Train Metrics - Precision: 0.5002, Recall: 1.0000, F1: 0.6668, AUC: 0.4858, Precision@K: 0.3000, NDCG@K: 0.2835\n",
      "Test Metrics  - Precision: 0.4974, Recall: 0.5385, F1: 0.5171, AUC: 0.5025, Precision@K: 0.1000, NDCG@K: 0.1389\n",
      "Epoch 02 | Train Loss: 1.2876, Test Loss: 8.0035\n",
      "Train Metrics - Precision: 0.4995, Recall: 0.5350, F1: 0.5167, AUC: 0.5026, Precision@K: 0.1000, NDCG@K: 0.0851\n",
      "Test Metrics  - Precision: 0.5227, Recall: 0.1373, F1: 0.2175, AUC: 0.5101, Precision@K: 0.1000, NDCG@K: 0.0851\n",
      "Epoch 03 | Train Loss: 7.9718, Test Loss: 4.4455\n",
      "Train Metrics - Precision: 0.5198, Recall: 0.1347, F1: 0.2140, AUC: 0.5092, Precision@K: 0.2000, NDCG@K: 0.1370\n",
      "Test Metrics  - Precision: 0.5210, Recall: 0.1414, F1: 0.2224, AUC: 0.5111, Precision@K: 0.1000, NDCG@K: 0.0851\n",
      "Epoch 04 | Train Loss: 4.4254, Test Loss: 2.3387\n",
      "Train Metrics - Precision: 0.5181, Recall: 0.1396, F1: 0.2200, AUC: 0.5102, Precision@K: 0.4000, NDCG@K: 0.2727\n",
      "Test Metrics  - Precision: 0.5003, Recall: 0.9856, F1: 0.6637, AUC: 0.5016, Precision@K: 0.5000, NDCG@K: 0.4066\n",
      "Epoch 05 | Train Loss: 2.3246, Test Loss: 2.8769\n",
      "Train Metrics - Precision: 0.5012, Recall: 0.9867, F1: 0.6647, AUC: 0.5030, Precision@K: 0.2000, NDCG@K: 0.1299\n",
      "Test Metrics  - Precision: 0.5003, Recall: 0.9861, F1: 0.6639, AUC: 0.5004, Precision@K: 0.4000, NDCG@K: 0.3165\n",
      "Epoch 06 | Train Loss: 2.8530, Test Loss: 0.9377\n",
      "Train Metrics - Precision: 0.5013, Recall: 0.9862, F1: 0.6647, AUC: 0.5026, Precision@K: 0.3000, NDCG@K: 0.2318\n",
      "Test Metrics  - Precision: 0.5027, Recall: 0.6639, F1: 0.5722, AUC: 0.5179, Precision@K: 0.3000, NDCG@K: 0.2470\n",
      "Epoch 07 | Train Loss: 0.9380, Test Loss: 2.8286\n",
      "Train Metrics - Precision: 0.5036, Recall: 0.6631, F1: 0.5725, AUC: 0.5178, Precision@K: 0.0000, NDCG@K: 0.0000\n",
      "Test Metrics  - Precision: 0.5545, Recall: 0.0978, F1: 0.1663, AUC: 0.5164, Precision@K: 0.3000, NDCG@K: 0.4284\n",
      "Epoch 08 | Train Loss: 2.8137, Test Loss: 3.1687\n",
      "Train Metrics - Precision: 0.5567, Recall: 0.0949, F1: 0.1622, AUC: 0.5162, Precision@K: 0.1000, NDCG@K: 0.0663\n",
      "Test Metrics  - Precision: 0.5619, Recall: 0.0823, F1: 0.1436, AUC: 0.5166, Precision@K: 0.1000, NDCG@K: 0.0851\n",
      "Epoch 09 | Train Loss: 3.1529, Test Loss: 1.7527\n",
      "Train Metrics - Precision: 0.5629, Recall: 0.0807, F1: 0.1411, AUC: 0.5163, Precision@K: 0.0000, NDCG@K: 0.0000\n",
      "Test Metrics  - Precision: 0.5576, Recall: 0.0849, F1: 0.1473, AUC: 0.5232, Precision@K: 0.3000, NDCG@K: 0.4374\n",
      "Epoch 10 | Train Loss: 1.7400, Test Loss: 1.4249\n",
      "Train Metrics - Precision: 0.5573, Recall: 0.0839, F1: 0.1459, AUC: 0.5241, Precision@K: 0.0000, NDCG@K: 0.0000\n",
      "Test Metrics  - Precision: 0.5049, Recall: 0.8969, F1: 0.6461, AUC: 0.5097, Precision@K: 0.9000, NDCG@K: 0.9052\n",
      "Epoch 11 | Train Loss: 1.4200, Test Loss: 2.3363\n",
      "Train Metrics - Precision: 0.5055, Recall: 0.8967, F1: 0.6465, AUC: 0.5112, Precision@K: 0.9000, NDCG@K: 0.9052\n",
      "Test Metrics  - Precision: 0.5036, Recall: 0.9381, F1: 0.6554, AUC: 0.5021, Precision@K: 0.2000, NDCG@K: 0.2048\n",
      "Epoch 12 | Train Loss: 2.3208, Test Loss: 1.9072\n",
      "Train Metrics - Precision: 0.5048, Recall: 0.9375, F1: 0.6563, AUC: 0.5038, Precision@K: 0.6000, NDCG@K: 0.6817\n",
      "Test Metrics  - Precision: 0.5042, Recall: 0.9324, F1: 0.6545, AUC: 0.5045, Precision@K: 0.4000, NDCG@K: 0.3820\n",
      "Epoch 13 | Train Loss: 1.8965, Test Loss: 0.7853\n",
      "Train Metrics - Precision: 0.5049, Recall: 0.9327, F1: 0.6552, AUC: 0.5062, Precision@K: 0.8000, NDCG@K: 0.7760\n",
      "Test Metrics  - Precision: 0.5123, Recall: 0.5717, F1: 0.5404, AUC: 0.5301, Precision@K: 0.2000, NDCG@K: 0.1682\n",
      "Epoch 14 | Train Loss: 0.7838, Test Loss: 1.7082\n",
      "Train Metrics - Precision: 0.5141, Recall: 0.5620, F1: 0.5370, AUC: 0.5299, Precision@K: 0.7000, NDCG@K: 0.7792\n",
      "Test Metrics  - Precision: 0.5771, Recall: 0.0676, F1: 0.1211, AUC: 0.5244, Precision@K: 0.0000, NDCG@K: 0.0000\n",
      "Epoch 15 | Train Loss: 1.6952, Test Loss: 2.0598\n",
      "Train Metrics - Precision: 0.5733, Recall: 0.0668, F1: 0.1197, AUC: 0.5254, Precision@K: 0.3000, NDCG@K: 0.4226\n",
      "Test Metrics  - Precision: 0.5862, Recall: 0.0487, F1: 0.0899, AUC: 0.5214, Precision@K: 0.0000, NDCG@K: 0.0000\n",
      "Epoch 16 | Train Loss: 2.0459, Test Loss: 1.4100\n",
      "Train Metrics - Precision: 0.5970, Recall: 0.0478, F1: 0.0885, AUC: 0.5218, Precision@K: 0.3000, NDCG@K: 0.3024\n",
      "Test Metrics  - Precision: 0.5586, Recall: 0.0876, F1: 0.1514, AUC: 0.5263, Precision@K: 0.2000, NDCG@K: 0.1299\n",
      "Epoch 17 | Train Loss: 1.3970, Test Loss: 0.7925\n",
      "Train Metrics - Precision: 0.5592, Recall: 0.0838, F1: 0.1457, AUC: 0.5278, Precision@K: 0.3000, NDCG@K: 0.2150\n",
      "Test Metrics  - Precision: 0.5159, Recall: 0.7776, F1: 0.6203, AUC: 0.5308, Precision@K: 0.3000, NDCG@K: 0.2457\n",
      "Epoch 18 | Train Loss: 0.7915, Test Loss: 1.4327\n",
      "Train Metrics - Precision: 0.5166, Recall: 0.7846, F1: 0.6230, AUC: 0.5307, Precision@K: 0.9000, NDCG@K: 0.9306\n",
      "Test Metrics  - Precision: 0.5026, Recall: 0.9634, F1: 0.6606, AUC: 0.5107, Precision@K: 0.7000, NDCG@K: 0.7631\n",
      "Epoch 19 | Train Loss: 1.4278, Test Loss: 1.3727\n",
      "Train Metrics - Precision: 0.5034, Recall: 0.9653, F1: 0.6617, AUC: 0.5130, Precision@K: 0.8000, NDCG@K: 0.7975\n",
      "Test Metrics  - Precision: 0.5022, Recall: 0.9676, F1: 0.6612, AUC: 0.5117, Precision@K: 0.8000, NDCG@K: 0.8365\n",
      "Epoch 20 | Train Loss: 1.3685, Test Loss: 0.7629\n",
      "Train Metrics - Precision: 0.5030, Recall: 0.9684, F1: 0.6621, AUC: 0.5144, Precision@K: 0.9000, NDCG@K: 0.8900\n",
      "Test Metrics  - Precision: 0.5153, Recall: 0.8355, F1: 0.6375, AUC: 0.5387, Precision@K: 0.3000, NDCG@K: 0.2182\n"
     ]
    }
   ],
   "source": [
    "device = torch.device('cuda' if torch.cuda.is_available() else 'cpu')\n",
    "model = GNN(input_dim=node_features.size(1), hidden_dim=128, output_dim=64).to(device)\n",
    "optimizer = torch.optim.Adam(model.parameters(), lr=0.001)\n",
    "criterion = torch.nn.BCELoss()\n",
    "\n",
    "node_features = node_features.to(device)\n",
    "train_edges, test_edges = train_edges.to(device), test_edges.to(device)\n",
    "train_labels, test_labels = train_labels.to(device), test_labels.to(device)\n",
    "\n",
    "train_losses = []\n",
    "test_losses = []\n",
    "train_metrics = []\n",
    "test_metrics = []\n",
    "\n",
    "for epoch in range(1, 21):\n",
    "    train_loss, train_precision, train_recall, train_f1, train_auc, train_precision_k, train_ndcg_k = train()\n",
    "    test_loss, test_precision, test_recall, test_f1, test_auc, test_precision_k, test_ndcg_k = evaluate()\n",
    "\n",
    "    train_losses.append(train_loss)\n",
    "    test_losses.append(test_loss)\n",
    "    train_metrics.append((train_precision, train_recall, train_f1, train_auc, train_precision_k, train_ndcg_k))\n",
    "    test_metrics.append((test_precision, test_recall, test_f1, test_auc, test_precision_k, test_ndcg_k))\n",
    "\n",
    "    print(f\"Epoch {epoch:02d} | Train Loss: {train_loss:.4f}, Test Loss: {test_loss:.4f}\")\n",
    "    print(f\"Train Metrics - Precision: {train_precision:.4f}, Recall: {train_recall:.4f}, F1: {train_f1:.4f}, AUC: {train_auc:.4f}, Precision@K: {train_precision_k:.4f}, NDCG@K: {train_ndcg_k:.4f}\")\n",
    "    print(f\"Test Metrics  - Precision: {test_precision:.4f}, Recall: {test_recall:.4f}, F1: {test_f1:.4f}, AUC: {test_auc:.4f}, Precision@K: {test_precision_k:.4f}, NDCG@K: {test_ndcg_k:.4f}\")"
   ]
  },
  {
   "cell_type": "markdown",
   "metadata": {},
   "source": [
    "## 10. Visualization"
   ]
  },
  {
   "cell_type": "code",
   "execution_count": 63,
   "metadata": {},
   "outputs": [
    {
     "data": {
      "image/png": "[encoded data removed]",
      "text/plain": [
       "<Figure size 1000x600 with 1 Axes>"
      ]
     },
     "metadata": {},
     "output_type": "display_data"
    }
   ],
   "source": [
    "plt.figure(figsize=(10, 6))\n",
    "plt.plot(range(1, 21), train_losses, label='Train Loss', marker='o')\n",
    "plt.plot(range(1, 21), test_losses, label='Test Loss', marker='s')\n",
    "plt.xlabel('Epochs')\n",
    "plt.ylabel('Loss')\n",
    "plt.title('Model Learning Progress')\n",
    "plt.legend()\n",
    "plt.grid(True)\n",
    "plt.show()"
   ]
  },
  {
   "cell_type": "markdown",
   "metadata": {},
   "source": [
    "## 11. Evaluation Metrics"
   ]
  },
  {
   "cell_type": "code",
   "execution_count": 64,
   "metadata": {},
   "outputs": [
    {
     "name": "stdout",
     "output_type": "stream",
     "text": [
      "\n",
      "Final Train Metrics:\n",
      "Precision: 0.5030, Recall: 0.9684, F1: 0.6621, AUC: 0.5144, Precision@K: 0.9000, NDCG@K: 0.8900\n",
      "\n",
      "Final Test Metrics:\n",
      "Precision: 0.5153, Recall: 0.8355, F1: 0.6375, AUC: 0.5387, Precision@K: 0.3000, NDCG@K: 0.2182\n"
     ]
    }
   ],
   "source": [
    "final_train_metrics = train_metrics[-1]\n",
    "final_test_metrics = test_metrics[-1]\n",
    "\n",
    "print(\"\\nFinal Train Metrics:\")\n",
    "print(f\"Precision: {final_train_metrics[0]:.4f}, Recall: {final_train_metrics[1]:.4f}, F1: {final_train_metrics[2]:.4f}, AUC: {final_train_metrics[3]:.4f}, Precision@K: {final_train_metrics[4]:.4f}, NDCG@K: {final_train_metrics[5]:.4f}\")\n",
    "\n",
    "print(\"\\nFinal Test Metrics:\")\n",
    "print(f\"Precision: {final_test_metrics[0]:.4f}, Recall: {final_test_metrics[1]:.4f}, F1: {final_test_metrics[2]:.4f}, AUC: {final_test_metrics[3]:.4f}, Precision@K: {final_test_metrics[4]:.4f}, NDCG@K: {final_test_metrics[5]:.4f}\")"
   ]
  },
  {
   "cell_type": "code",
   "execution_count": null,
   "metadata": {},
   "outputs": [],
   "source": []
  }
 ],
 "metadata": {
  "kernelspec": {
   "display_name": "base",
   "language": "python",
   "name": "python3"
  },
  "language_info": {
   "codemirror_mode": {
    "name": "ipython",
    "version": 3
   },
   "file_extension": ".py",
   "mimetype": "text/x-python",
   "name": "python",
   "nbconvert_exporter": "python",
   "pygments_lexer": "ipython3",
   "version": "3.11.4"
  }
 },
 "nbformat": 4,
 "nbformat_minor": 2
}
